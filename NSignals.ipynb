{
 "cells": [
  {
   "cell_type": "code",
   "execution_count": 2,
   "id": "7a9aed2e",
   "metadata": {},
   "outputs": [],
   "source": [
    "import pandas as pd\n",
    "import numpy as np\n",
    "import glob\n",
    "import matplotlib.pyplot as plt \n",
    "import seaborn as sns\n",
    "\n",
    "from scipy.stats import gaussian_kde\n",
    "from scipy.stats import binned_statistic"
   ]
  },
  {
   "cell_type": "markdown",
   "id": "19efdfa9",
   "metadata": {},
   "source": [
    "# Num Signals v/s Efficiency Analysis\n",
    "   For this set of 1500 simulations, I chose a chirp mass of 1.15 and a frequency range from \n",
    "4-6Hz, the total number of TFFTs for each simulation is 32. Each signnal is measures with three differnt aplituded 1e-22,1e-23 and 1e-24. To get all of these simulations to run it took approximatly 15 hrs running on my local device. "
   ]
  },
  {
   "cell_type": "code",
   "execution_count": 3,
   "id": "98cf482a",
   "metadata": {
    "scrolled": false
   },
   "outputs": [
    {
     "name": "stdout",
     "output_type": "stream",
     "text": [
      "Shape: (1500, 31)\n"
     ]
    },
    {
     "data": {
      "text/html": [
       "<div>\n",
       "<style scoped>\n",
       "    .dataframe tbody tr th:only-of-type {\n",
       "        vertical-align: middle;\n",
       "    }\n",
       "\n",
       "    .dataframe tbody tr th {\n",
       "        vertical-align: top;\n",
       "    }\n",
       "\n",
       "    .dataframe thead th {\n",
       "        text-align: right;\n",
       "    }\n",
       "</style>\n",
       "<table border=\"1\" class=\"dataframe\">\n",
       "  <thead>\n",
       "    <tr style=\"text-align: right;\">\n",
       "      <th></th>\n",
       "      <th>N</th>\n",
       "      <th>Retireved_N</th>\n",
       "      <th>TFFT</th>\n",
       "      <th>dur</th>\n",
       "      <th>Cr</th>\n",
       "      <th>cm</th>\n",
       "      <th>minf</th>\n",
       "      <th>maxf</th>\n",
       "      <th>h0</th>\n",
       "      <th>distaway_1</th>\n",
       "      <th>...</th>\n",
       "      <th>distaway_6</th>\n",
       "      <th>distaway_7</th>\n",
       "      <th>distaway_8</th>\n",
       "      <th>distaway_9</th>\n",
       "      <th>f0_6</th>\n",
       "      <th>f0_7</th>\n",
       "      <th>f0_8</th>\n",
       "      <th>f0_9</th>\n",
       "      <th>distaway_10</th>\n",
       "      <th>f0_10</th>\n",
       "    </tr>\n",
       "  </thead>\n",
       "  <tbody>\n",
       "    <tr>\n",
       "      <th>0</th>\n",
       "      <td>4</td>\n",
       "      <td>1</td>\n",
       "      <td>32</td>\n",
       "      <td>9853</td>\n",
       "      <td>1.68625</td>\n",
       "      <td>1.15</td>\n",
       "      <td>4</td>\n",
       "      <td>7</td>\n",
       "      <td>1.000000e-24</td>\n",
       "      <td>4.470225</td>\n",
       "      <td>...</td>\n",
       "      <td>NaN</td>\n",
       "      <td>NaN</td>\n",
       "      <td>NaN</td>\n",
       "      <td>NaN</td>\n",
       "      <td>NaN</td>\n",
       "      <td>NaN</td>\n",
       "      <td>NaN</td>\n",
       "      <td>NaN</td>\n",
       "      <td>NaN</td>\n",
       "      <td>NaN</td>\n",
       "    </tr>\n",
       "    <tr>\n",
       "      <th>1</th>\n",
       "      <td>4</td>\n",
       "      <td>3</td>\n",
       "      <td>32</td>\n",
       "      <td>9853</td>\n",
       "      <td>1.34900</td>\n",
       "      <td>1.15</td>\n",
       "      <td>4</td>\n",
       "      <td>7</td>\n",
       "      <td>1.000000e-24</td>\n",
       "      <td>1.827960</td>\n",
       "      <td>...</td>\n",
       "      <td>NaN</td>\n",
       "      <td>NaN</td>\n",
       "      <td>NaN</td>\n",
       "      <td>NaN</td>\n",
       "      <td>NaN</td>\n",
       "      <td>NaN</td>\n",
       "      <td>NaN</td>\n",
       "      <td>NaN</td>\n",
       "      <td>NaN</td>\n",
       "      <td>NaN</td>\n",
       "    </tr>\n",
       "    <tr>\n",
       "      <th>2</th>\n",
       "      <td>4</td>\n",
       "      <td>1</td>\n",
       "      <td>32</td>\n",
       "      <td>9853</td>\n",
       "      <td>1.68625</td>\n",
       "      <td>1.15</td>\n",
       "      <td>4</td>\n",
       "      <td>7</td>\n",
       "      <td>1.000000e-24</td>\n",
       "      <td>1.235559</td>\n",
       "      <td>...</td>\n",
       "      <td>NaN</td>\n",
       "      <td>NaN</td>\n",
       "      <td>NaN</td>\n",
       "      <td>NaN</td>\n",
       "      <td>NaN</td>\n",
       "      <td>NaN</td>\n",
       "      <td>NaN</td>\n",
       "      <td>NaN</td>\n",
       "      <td>NaN</td>\n",
       "      <td>NaN</td>\n",
       "    </tr>\n",
       "    <tr>\n",
       "      <th>3</th>\n",
       "      <td>4</td>\n",
       "      <td>0</td>\n",
       "      <td>32</td>\n",
       "      <td>9853</td>\n",
       "      <td>6.74500</td>\n",
       "      <td>1.15</td>\n",
       "      <td>4</td>\n",
       "      <td>7</td>\n",
       "      <td>1.000000e-24</td>\n",
       "      <td>4.194978</td>\n",
       "      <td>...</td>\n",
       "      <td>NaN</td>\n",
       "      <td>NaN</td>\n",
       "      <td>NaN</td>\n",
       "      <td>NaN</td>\n",
       "      <td>NaN</td>\n",
       "      <td>NaN</td>\n",
       "      <td>NaN</td>\n",
       "      <td>NaN</td>\n",
       "      <td>NaN</td>\n",
       "      <td>NaN</td>\n",
       "    </tr>\n",
       "    <tr>\n",
       "      <th>4</th>\n",
       "      <td>4</td>\n",
       "      <td>0</td>\n",
       "      <td>32</td>\n",
       "      <td>9853</td>\n",
       "      <td>2.02350</td>\n",
       "      <td>1.15</td>\n",
       "      <td>4</td>\n",
       "      <td>7</td>\n",
       "      <td>1.000000e-24</td>\n",
       "      <td>5.573912</td>\n",
       "      <td>...</td>\n",
       "      <td>NaN</td>\n",
       "      <td>NaN</td>\n",
       "      <td>NaN</td>\n",
       "      <td>NaN</td>\n",
       "      <td>NaN</td>\n",
       "      <td>NaN</td>\n",
       "      <td>NaN</td>\n",
       "      <td>NaN</td>\n",
       "      <td>NaN</td>\n",
       "      <td>NaN</td>\n",
       "    </tr>\n",
       "  </tbody>\n",
       "</table>\n",
       "<p>5 rows × 31 columns</p>\n",
       "</div>"
      ],
      "text/plain": [
       "   N  Retireved_N  TFFT   dur       Cr    cm  minf  maxf            h0  \\\n",
       "0  4            1    32  9853  1.68625  1.15     4     7  1.000000e-24   \n",
       "1  4            3    32  9853  1.34900  1.15     4     7  1.000000e-24   \n",
       "2  4            1    32  9853  1.68625  1.15     4     7  1.000000e-24   \n",
       "3  4            0    32  9853  6.74500  1.15     4     7  1.000000e-24   \n",
       "4  4            0    32  9853  2.02350  1.15     4     7  1.000000e-24   \n",
       "\n",
       "   distaway_1  ...  distaway_6  distaway_7  distaway_8  distaway_9  f0_6  \\\n",
       "0    4.470225  ...         NaN         NaN         NaN         NaN   NaN   \n",
       "1    1.827960  ...         NaN         NaN         NaN         NaN   NaN   \n",
       "2    1.235559  ...         NaN         NaN         NaN         NaN   NaN   \n",
       "3    4.194978  ...         NaN         NaN         NaN         NaN   NaN   \n",
       "4    5.573912  ...         NaN         NaN         NaN         NaN   NaN   \n",
       "\n",
       "   f0_7  f0_8  f0_9  distaway_10  f0_10  \n",
       "0   NaN   NaN   NaN          NaN    NaN  \n",
       "1   NaN   NaN   NaN          NaN    NaN  \n",
       "2   NaN   NaN   NaN          NaN    NaN  \n",
       "3   NaN   NaN   NaN          NaN    NaN  \n",
       "4   NaN   NaN   NaN          NaN    NaN  \n",
       "\n",
       "[5 rows x 31 columns]"
      ]
     },
     "execution_count": 3,
     "metadata": {},
     "output_type": "execute_result"
    }
   ],
   "source": [
    "#I need to open and load 30 files (but I dont want to do that one by one)\n",
    "#Lets try to used glob to get all of the files\n",
    "\n",
    "path=\"/Users/lianysfeliciano/Nikhef_REU/CSVs\" #path to CSV folder\n",
    "\n",
    "files=glob.glob(path+'/*.csv') \n",
    "#using glob to search for all files ending with.csv and grouping them\n",
    "\n",
    "ls=[] #making empty list to append dfs to\n",
    "\n",
    "for f in files: #loop to open each df\n",
    "    temp_df=pd.read_csv(f) \n",
    "    ls.append(temp_df) #adding files to list \n",
    "    \n",
    "#merging all df into one big one\n",
    "df=pd.concat(ls,axis=0) \n",
    "print(\"Shape:\",df.shape)\n",
    "df.head()"
   ]
  },
  {
   "cell_type": "code",
   "execution_count": 5,
   "id": "c60252c0",
   "metadata": {},
   "outputs": [],
   "source": [
    "#picking our df with same nuber of insjected signas to do analysis \n",
    "#I cannot simply index becasue they are mixed up in the big dataset\n",
    "Num=[1,2,3,4,5,6,7,8,9,10]\n",
    "N=np.array(df[\"N\"])\n",
    "for n in Num:\n",
    "    ls1=[]\n",
    "    ls2=[]\n",
    "    ls3=[]\n",
    "    ls4=[]\n",
    "    ls5=[]\n",
    "    ls6=[]\n",
    "    ls7=[]\n",
    "    ls8=[]\n",
    "    ls9=[]\n",
    "    ls10=[]\n",
    "    for i in range(len(N)):\n",
    "        if N[i]==1:\n",
    "            ls1.append(df.iloc[i])\n",
    "        elif N[i]==2:\n",
    "            ls2.append(df.iloc[i])\n",
    "        elif N[i]==3:\n",
    "            ls3.append(df.iloc[i])\n",
    "        elif N[i]==4:\n",
    "            ls4.append(df.iloc[i])\n",
    "        elif N[i]==5:\n",
    "            ls5.append(df.iloc[i])\n",
    "        elif N[i]==6:\n",
    "            ls6.append(df.iloc[i])\n",
    "        elif N[i]==7:\n",
    "            ls7.append(df.iloc[i])\n",
    "        elif N[i]==8:\n",
    "            ls8.append(df.iloc[i])\n",
    "        elif N[i]==9:\n",
    "            ls9.append(df.iloc[i])\n",
    "        elif N[i]==10:\n",
    "            ls10.append(df.iloc[i])\n",
    "    \n",
    "    df1=pd.DataFrame(ls1)\n",
    "    df2=pd.DataFrame(ls2)\n",
    "    df3=pd.DataFrame(ls3)\n",
    "    df4=pd.DataFrame(ls4)\n",
    "    df5=pd.DataFrame(ls5)\n",
    "    df6=pd.DataFrame(ls6)\n",
    "    df7=pd.DataFrame(ls7)\n",
    "    df8=pd.DataFrame(ls8)\n",
    "    df9=pd.DataFrame(ls9)\n",
    "    df10=pd.DataFrame(ls10)        "
   ]
  },
  {
   "cell_type": "code",
   "execution_count": null,
   "id": "f3711def",
   "metadata": {
    "scrolled": true
   },
   "outputs": [],
   "source": [
    "#Now we have a df for each signal injection each containing the three different amplitudes\n",
    "#I can index each to calculate the efficiency\n",
    "A23=df1.iloc[0:49,:]\n",
    "A22=df1.iloc[50:99,:]\n",
    "A24=df1.iloc[100:150,:]\n",
    "print(A23)"
   ]
  },
  {
   "cell_type": "code",
   "execution_count": null,
   "id": "f2e612df",
   "metadata": {},
   "outputs": [],
   "source": [
    "#doing it for 1 df and to reated func w. same template\n",
    "N=np.array(df1['N'])\n",
    "Retireved_N=np.array(df1['Retireved_N'])\n",
    "h0=np.array(df1[\"h0\"])\n",
    "a=0\n",
    "b=0\n",
    "c=0\n",
    "\n",
    "for i in range(len(N)):\n",
    "    if N[i]==Retireved_N[i] and h0[i]==1e-22:\n",
    "        a+=1\n",
    "\n",
    "    if N[i]==Retireved_N[i] and h0[i]==1e-23:\n",
    "        b+=1\n",
    "\n",
    "\n",
    "    if N[i]==Retireved_N[i]and h0[i]==1e-24:\n",
    "        c+=1\n",
    "\n",
    "    E1=a/50\n",
    "    E2=b/50\n",
    "    E3=c/50 \n",
    "\n",
    "print(E1,E2,E3)\n",
    "\n",
    "#Correct Calculations^"
   ]
  },
  {
   "cell_type": "markdown",
   "id": "e7f793fb",
   "metadata": {},
   "source": [
    "After some test, I noticed that all of the df arent organized the same way sometimes -22 is first and other tiems -24 is first. This means a condition needs to be added to ensure\n",
    "e-22,e-23 and e-24 are grouped properly."
   ]
  },
  {
   "cell_type": "code",
   "execution_count": 6,
   "id": "5231709f",
   "metadata": {},
   "outputs": [],
   "source": [
    "def Efficiency(N,Retireved_N,h0):\n",
    "    \"\"\"\n",
    "    Enter the number of signals, retreived signals and amplitude \n",
    "    columns of the df you desier to get the efficiency for each different amplitude\n",
    "    \"\"\"\n",
    "    \n",
    "    a=0\n",
    "    b=0\n",
    "    c=0\n",
    "    \n",
    "    for i in range(len(N)):\n",
    "        if N[i]==Retireved_N[i] and h0[i]==1.0e-22:\n",
    "            a+=1\n",
    "        if N[i]==Retireved_N[i] and h0[i]==1.0e-23:\n",
    "            b+=1\n",
    "        if N[i]==Retireved_N[i]and h0[i]==1.0e-24:\n",
    "            c+=1\n",
    "    \n",
    "    E1=a/50\n",
    "    E2=b/50\n",
    "    E3=c/50\n",
    "\n",
    "    return E1,E2,E3"
   ]
  },
  {
   "cell_type": "code",
   "execution_count": 7,
   "id": "4f3d7f96",
   "metadata": {},
   "outputs": [
    {
     "name": "stdout",
     "output_type": "stream",
     "text": [
      "0.88 0.0 0.0\n"
     ]
    }
   ],
   "source": [
    "N1=np.array(df1[\"N\"])\n",
    "R1=np.array(df1[\"Retireved_N\"])\n",
    "H1=np.array(df1['h0'])\n",
    "\n",
    "E1,E2,E3=Efficiency(N1,R1,H1)\n",
    "print(E1,E2,E3)"
   ]
  },
  {
   "cell_type": "markdown",
   "id": "7a962a69",
   "metadata": {},
   "source": [
    "### Why is it computing 0? Lets trying with just 1 random file"
   ]
  },
  {
   "cell_type": "code",
   "execution_count": null,
   "id": "7e93697e",
   "metadata": {},
   "outputs": [],
   "source": [
    "tdf=pd.read_csv('~/Nikhef_REU/CSVs/df_5Sig_Amp:1e-23.csv')\n",
    "tdf\n",
    "\n",
    "N=np.array(tdf[\"N\"])\n",
    "R=np.array(tdf[\"Retireved_N\"])\n",
    "\n",
    "a=0\n",
    "for i in range(len(N)):\n",
    "    if N[i]==R[i]:\n",
    "        print(i)\n",
    "        a+=1\n",
    "E=a/len(N)\n",
    "E"
   ]
  },
  {
   "cell_type": "code",
   "execution_count": null,
   "id": "2f635895",
   "metadata": {},
   "outputs": [],
   "source": [
    "print(N)\n",
    "\n",
    "print(R)"
   ]
  },
  {
   "cell_type": "code",
   "execution_count": null,
   "id": "7357622b",
   "metadata": {},
   "outputs": [],
   "source": [
    "for i in range(len(R)):\n",
    "    if R[i]==5:\n",
    "        print(i)"
   ]
  },
  {
   "cell_type": "markdown",
   "id": "ec02690f",
   "metadata": {},
   "source": [
    "It appears there are no instances where all 5 signlas are reteived in which this occures thats why it's zero"
   ]
  },
  {
   "cell_type": "markdown",
   "id": "ef279ed7",
   "metadata": {},
   "source": [
    "## Calcualting Efficiency for Earch df"
   ]
  },
  {
   "cell_type": "markdown",
   "id": "5d4aadc0",
   "metadata": {},
   "source": [
    "I was origionnally going to do this also in a loop but, becasue the df is a complex strucutre it takes extra work to get a fuction to let it pass through. Instead I just did it indivisually"
   ]
  },
  {
   "cell_type": "code",
   "execution_count": 47,
   "id": "077fa5f3",
   "metadata": {},
   "outputs": [],
   "source": [
    "E=[]\n",
    "E2=[]\n",
    "E3=[]"
   ]
  },
  {
   "cell_type": "code",
   "execution_count": 48,
   "id": "ceede1e5",
   "metadata": {},
   "outputs": [],
   "source": [
    "N1=np.array(df1[\"N\"])\n",
    "R1=np.array(df1[\"Retireved_N\"])\n",
    "H1=np.array(df1[\"h0\"])\n",
    "e1,e2,e3=Efficiency(N1,R1,H1)\n",
    "E.append(e1)\n",
    "E2.append(e2)\n",
    "E3.append(e3)"
   ]
  },
  {
   "cell_type": "code",
   "execution_count": 49,
   "id": "e1881a42",
   "metadata": {},
   "outputs": [],
   "source": [
    "N2=np.array(df2[\"N\"])\n",
    "R2=np.array(df2[\"Retireved_N\"])\n",
    "H2=np.array(df2[\"h0\"])\n",
    "e1,e2,e3=Efficiency(N2,R2,H2)\n",
    "E.append(e1)\n",
    "E2.append(e2)\n",
    "E3.append(e3)"
   ]
  },
  {
   "cell_type": "code",
   "execution_count": 50,
   "id": "25a89f9a",
   "metadata": {},
   "outputs": [],
   "source": [
    "N3=np.array(df3[\"N\"])\n",
    "R3=np.array(df3[\"Retireved_N\"])\n",
    "H3=np.array(df3[\"h0\"])\n",
    "e1,e2,e3=Efficiency(N3,R3,H3)\n",
    "E.append(e1)\n",
    "E2.append(e2)\n",
    "E3.append(e3)"
   ]
  },
  {
   "cell_type": "code",
   "execution_count": 51,
   "id": "ad3a8b7b",
   "metadata": {},
   "outputs": [],
   "source": [
    "N4=np.array(df4[\"N\"])\n",
    "R4=np.array(df4[\"Retireved_N\"])\n",
    "H4=np.array(df4[\"h0\"])\n",
    "e1,e2,e3=Efficiency(N4,R4,H4)\n",
    "E.append(e1)\n",
    "E2.append(e2)\n",
    "E3.append(e3)"
   ]
  },
  {
   "cell_type": "code",
   "execution_count": 52,
   "id": "8bd3d3d7",
   "metadata": {},
   "outputs": [],
   "source": [
    "N5=np.array(df5[\"N\"])\n",
    "R5=np.array(df5[\"Retireved_N\"])\n",
    "H5=np.array(df5[\"h0\"])\n",
    "e1,e2,e3=Efficiency(N5,R5,H5)\n",
    "E.append(e1)\n",
    "E2.append(e2)\n",
    "E3.append(e3)"
   ]
  },
  {
   "cell_type": "code",
   "execution_count": 53,
   "id": "1fcd273e",
   "metadata": {},
   "outputs": [],
   "source": [
    "N6=np.array(df6[\"N\"])\n",
    "R6=np.array(df6[\"Retireved_N\"])\n",
    "H6=np.array(df6[\"h0\"])\n",
    "e1,e2,e3=Efficiency(N6,R6,H6)\n",
    "E.append(e1)\n",
    "E2.append(e2)\n",
    "E3.append(e3)"
   ]
  },
  {
   "cell_type": "code",
   "execution_count": 54,
   "id": "4d642e6c",
   "metadata": {},
   "outputs": [],
   "source": [
    "N7=np.array(df7[\"N\"])\n",
    "R7=np.array(df7[\"Retireved_N\"])\n",
    "H7=np.array(df7[\"h0\"])\n",
    "e1,e2,e3=Efficiency(N7,R7,H7)\n",
    "E.append(e1)\n",
    "E2.append(e2)\n",
    "E3.append(e3)"
   ]
  },
  {
   "cell_type": "code",
   "execution_count": 55,
   "id": "5e82815d",
   "metadata": {},
   "outputs": [],
   "source": [
    "N8=np.array(df8[\"N\"])\n",
    "R8=np.array(df8[\"Retireved_N\"])\n",
    "H8=np.array(df8[\"h0\"])\n",
    "e1,e2,e3=Efficiency(N8,R8,H8)\n",
    "E.append(e1)\n",
    "E2.append(e2)\n",
    "E3.append(e3)"
   ]
  },
  {
   "cell_type": "code",
   "execution_count": 56,
   "id": "fbe3900f",
   "metadata": {},
   "outputs": [],
   "source": [
    "N9=np.array(df9[\"N\"])\n",
    "R9=np.array(df9[\"Retireved_N\"])\n",
    "H9=np.array(df9[\"h0\"])\n",
    "e1,e2,e3=Efficiency(N9,R9,H9)\n",
    "E.append(e1)\n",
    "E2.append(e2)\n",
    "E3.append(e3)"
   ]
  },
  {
   "cell_type": "code",
   "execution_count": 57,
   "id": "2c8a75ae",
   "metadata": {},
   "outputs": [],
   "source": [
    "N10=np.array(df10[\"N\"])\n",
    "R10=np.array(df10[\"Retireved_N\"])\n",
    "H10=np.array(df10[\"h0\"])\n",
    "e1,e2,e3=Efficiency(N10,R10,H10)\n",
    "E.append(e1)\n",
    "E2.append(e2)\n",
    "E3.append(e3)"
   ]
  },
  {
   "cell_type": "markdown",
   "id": "c1976f9c",
   "metadata": {},
   "source": [
    "## Graphing Results "
   ]
  },
  {
   "cell_type": "code",
   "execution_count": 63,
   "id": "7e8b71e8",
   "metadata": {},
   "outputs": [
    {
     "data": {
      "text/plain": [
       "<matplotlib.legend.Legend at 0x7f98578dda30>"
      ]
     },
     "execution_count": 63,
     "metadata": {},
     "output_type": "execute_result"
    },
    {
     "data": {
      "image/png": "[encoded data removed]",
      "text/plain": [
       "<Figure size 576x432 with 1 Axes>"
      ]
     },
     "metadata": {},
     "output_type": "display_data"
    },
    {
     "data": {
      "image/png": "[encoded data removed]",
      "text/plain": [
       "<Figure size 576x432 with 1 Axes>"
      ]
     },
     "metadata": {},
     "output_type": "display_data"
    },
    {
     "data": {
      "image/png": "[encoded data removed]",
      "text/plain": [
       "<Figure size 576x432 with 1 Axes>"
      ]
     },
     "metadata": {},
     "output_type": "display_data"
    },
    {
     "data": {
      "image/png": "[encoded data removed]",
      "text/plain": [
       "<Figure size 576x432 with 1 Axes>"
      ]
     },
     "metadata": {},
     "output_type": "display_data"
    }
   ],
   "source": [
    "\n",
    "plt.figure(facecolor=\"w\",figsize=[8,6])\n",
    "plt.scatter(N,E,alpha=.5,color=\"c\")\n",
    "plt.title('Efficiency vs Number of Signlas (Amp:1e-22)',font='monospace',fontsize=16)\n",
    "plt.xlabel(\"Number of Signals\",font='monospace',fontsize=14)\n",
    "plt.ylabel(\"Efficiency\",font='monospace',fontsize=14)\n",
    "\n",
    "\n",
    "plt.figure(facecolor=\"w\",figsize=[8,6])\n",
    "plt.scatter(N,E2,alpha=.5,color=\"r\")\n",
    "plt.title('Efficiency vs Number of Signlas (Amp:1e-23)',font='monospace',fontsize=16)\n",
    "plt.xlabel(\"Number of Signals\",font='monospace',fontsize=14)\n",
    "plt.ylabel(\"Efficiency\",font='monospace',fontsize=14)\n",
    "\n",
    "plt.figure(facecolor=\"w\",figsize=[8,6])\n",
    "plt.scatter(N,E3,alpha=.5,color=\"purple\")\n",
    "plt.title('Efficiency vs Number of Signlas (Amp:1e-24)',font='monospace',fontsize=16)\n",
    "plt.xlabel(\"Number of Signals\",font='monospace',fontsize=14)\n",
    "plt.ylabel(\"Efficiency\",font='monospace',fontsize=14)\n",
    "\n",
    "plt.figure(facecolor=\"w\",figsize=[8,6])\n",
    "plt.scatter(N,E,alpha=.3,color=\"c\",label='1e-22')\n",
    "plt.scatter(N,E2,alpha=.3,color=\"r\",label='1e-23')\n",
    "plt.scatter(N,E3,alpha=.3,color=\"purple\",label='1e-24')\n",
    "plt.title('Efficiency vs Number of Signlas: All Aplitudes',font='monospace',fontsize=16)\n",
    "plt.xlabel(\"Number of Signals\",font='monospace',fontsize=14)\n",
    "plt.ylabel(\"Efficiency\",font='monospace',fontsize=14)\n",
    "plt.legend(loc='upper right')"
   ]
  },
  {
   "cell_type": "markdown",
   "id": "55570cff",
   "metadata": {},
   "source": [
    "## Analysis\n",
    "From these results I can see two things, either the chirp mass I chose was too small to detect or the frequency band was very low making ditection dificult. Additionally, I'd like to note that the amplitude 1e-22 was most receptive to returning signals. Perhaps next time larger amplituded need to be added or the chirp mass needs to be increased."
   ]
  },
  {
   "cell_type": "code",
   "execution_count": null,
   "id": "750942a2",
   "metadata": {},
   "outputs": [],
   "source": []
  }
 ],
 "metadata": {
  "kernelspec": {
   "display_name": "Python 3 (ipykernel)",
   "language": "python",
   "name": "python3"
  },
  "language_info": {
   "codemirror_mode": {
    "name": "ipython",
    "version": 3
   },
   "file_extension": ".py",
   "mimetype": "text/x-python",
   "name": "python",
   "nbconvert_exporter": "python",
   "pygments_lexer": "ipython3",
   "version": "3.9.12"
  }
 },
 "nbformat": 4,
 "nbformat_minor": 5
}
